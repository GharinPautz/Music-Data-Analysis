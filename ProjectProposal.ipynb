{
 "cells": [
  {
   "cell_type": "markdown",
   "metadata": {},
   "source": [
    "# Genrefy\n",
    "## Project Proposal\n",
    "## Names: Ghar Pautz, Kellie Colson"
   ]
  },
  {
   "cell_type": "markdown",
   "metadata": {},
   "source": [
    "### Dataset Description"
   ]
  },
  {
   "cell_type": "markdown",
   "metadata": {},
   "source": [
    "Kaggle Dataset in CSV Format  \n",
    "Title: \"Music Dataset: 1950 to 2019\"  \n",
    "Link: https://www.kaggle.com/saurabhshahane/music-dataset-1950-to-2019  \n",
    "\n",
    "#### Attributes\n",
    "There are many attributes included in the dataset, but the ones that we feel are relevant to our classification include:\n",
    "1. Artist Name\n",
    "1. Track Name\n",
    "1. Release Date\n",
    "1. Genre\n",
    "1. Sadness\n",
    "1. Feelings\n",
    "1. Danceability\n",
    "1. Loudness\n",
    "1. Acousticness\n",
    "1. Instrumentalness\n",
    "1. Valence\n",
    "1. Energy\n",
    "\n",
    "We plan on using \"genre\" as our classifier, which breaks up the tracks into 7 major genres. Based on the normalized data from 0 to 1 for each of the attributes listed above, we could predict the genre and see if there is correlation based on the selected attributes."
   ]
  },
  {
   "cell_type": "markdown",
   "metadata": {},
   "source": [
    "### Implementation/Technical Merit"
   ]
  },
  {
   "cell_type": "markdown",
   "metadata": {},
   "source": [
    "One challenge we could potentially have is removing data that is not properly normalized between 0 and 1 for any of the attributes we're using as predicting variables. We do not anticipate many challenges other than the process of cleaning up the data and exploring the right attributes to use as predictors. There is a vast number of attributes provided in this dataset, so we would want to narrow it down for our actual models. One way in which we will select our attributes is by choosing the ones we feel strongly will be relevant in predicting the genre. For example, we would imagine a song that ranks high in \"danceability\" would most likely be pop. Other attributes that the dataset provides that we feel might not be that relevant or interesting is like \"Shake The Audience,\" which is discreet in it's description to begin with."
   ]
  },
  {
   "cell_type": "markdown",
   "metadata": {},
   "source": [
    "### Potential Impacts of Results"
   ]
  },
  {
   "cell_type": "markdown",
   "metadata": {},
   "source": [
    "Some potential impacts of the results we will receive from this project could be seeing if there is correlation between genres and the melody/lyrics of a song. This could potentially be used by music streaming businesses like Spotify or Apple Music. While we will predicting the genre based on the attributes provided, it could also be used to show how given a certain genre you can possibly predict certain characteristics of that song like danceability and energy, which could be used by those streaming services to tailor their music shuffle features for users based on their preferences. Explicitly, the stakeholders could be streaming services (Spotify, Apple Music, Amazon) and their employees, customers, stockholders, and business partners."
   ]
  }
 ],
 "metadata": {
  "kernelspec": {
   "display_name": "Python 3",
   "language": "python",
   "name": "python3"
  },
  "language_info": {
   "codemirror_mode": {
    "name": "ipython",
    "version": 3
   },
   "file_extension": ".py",
   "mimetype": "text/x-python",
   "name": "python",
   "nbconvert_exporter": "python",
   "pygments_lexer": "ipython3",
   "version": "3.8.5"
  }
 },
 "nbformat": 4,
 "nbformat_minor": 4
}
