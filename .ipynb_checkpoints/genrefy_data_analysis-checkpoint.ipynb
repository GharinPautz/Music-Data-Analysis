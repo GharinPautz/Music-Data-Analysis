{
 "cells": [
  {
   "cell_type": "markdown",
   "metadata": {},
   "source": [
    "# Genrefy Project"
   ]
  },
  {
   "cell_type": "markdown",
   "metadata": {},
   "source": [
    "## Data Preprocessing"
   ]
  },
  {
   "cell_type": "code",
   "execution_count": 4,
   "metadata": {},
   "outputs": [
    {
     "name": "stdout",
     "output_type": "stream",
     "text": [
      "28372\n",
      "30\n"
     ]
    }
   ],
   "source": [
    "import mypytable as mpt\n",
    "\n",
    "table = mpt.MyPyTable().load_from_file(\"tcc_ceds_music.csv\")\n",
    "numrows, numcols = table.get_shape()\n",
    "print(\"Rows: \", numrows)\n",
    "print(\"Cols: \", numcols)"
   ]
  },
  {
   "cell_type": "code",
   "execution_count": 11,
   "metadata": {},
   "outputs": [
    {
     "name": "stdout",
     "output_type": "stream",
     "text": [
      "len                            dating    violence    world/life    night/time    shake the audience\n",
      "------------------------  -----------  ----------  ------------  ------------  --------------------\n",
      "len                       1            199           100           73.0284              63\n",
      "dating                    0.000290782    0.647706      0.323998     0.0211116            0.00146199\n",
      "violence                  0.000284495    0.981781      0.491033     0.118396             0.00250627\n",
      "world/life                0.000290782    0.962105      0.481198     0.120973             0.00657895\n",
      "night/time                0.000289185    0.973684      0.486987     0.0573871            0.00194932\n",
      "shake the audience        0.000284495    0.497463      0.248874     0.0174224            0.0015949\n",
      "family/gospel             0.000289185    0.545303      0.272796     0.0170454            0.00150376\n",
      "romantic                  0.000284495    0.940789      0.470537     0.048681             0.00175439\n",
      "communication             0.000290782    0.645829      0.32306      0.0766798            0.00263158\n",
      "obscene                   0.000289185    0.992298      0.496294     0.0971679            0.00181488\n",
      "music                     0.000289185    0.956938      0.478613     0.0600466            0.00181488\n",
      "movement/places           0.000284495    0.638021      0.319153     0.0474005            0.00164474\n",
      "light/visual perceptions  0.000284495    0.667782      0.334033     0.0490049            0.00181488\n",
      "family/spiritual          0.000284495    0.618073      0.309179     0.0241503            0.00164474\n",
      "like/girls                0.000284495    0.594459      0.297372     0.028057             0.0015949\n",
      "sadness                   0.000284495    0.981424      0.490854     0.129389             0.00526316\n",
      "feelings                  0.000289185    0.95881       0.47955      0.0309963            0.00175439\n",
      "danceability              0.00541536     0.993502      0.499458     0.533348             0.538612\n",
      "loudness                  0              1             0.5          0.665249             0.67905\n",
      "acousticness              2.81e-07       1             0.5          0.339235             0.225903\n",
      "instrumentalness          0              0.996964      0.498482     0.080049             8.49e-05\n",
      "valence                   0              1             0.5          0.532864             0.539365\n",
      "energy                    0              1             0.5          0.569875             0.580567\n",
      "age                       0.0142857      1             0.507143     0.425187             0.414286\n"
     ]
    }
   ],
   "source": [
    "columns = ['len', 'dating', 'violence', 'world/life', 'night/time', 'shake the audience', 'family/gospel', 'romantic', 'communication', 'obscene', 'music', 'movement/places', 'light/visual perceptions', 'family/spiritual', 'like/girls', 'sadness', 'feelings', 'danceability', 'loudness', 'acousticness', 'instrumentalness', 'valence', 'energy', 'age']\n",
    "sum_table = table.compute_summary_statistics(columns)\n",
    "sum_table.pretty_print()"
   ]
  }
 ],
 "metadata": {
  "kernelspec": {
   "display_name": "Python 3",
   "language": "python",
   "name": "python3"
  },
  "language_info": {
   "codemirror_mode": {
    "name": "ipython",
    "version": 3
   },
   "file_extension": ".py",
   "mimetype": "text/x-python",
   "name": "python",
   "nbconvert_exporter": "python",
   "pygments_lexer": "ipython3",
   "version": "3.8.5"
  }
 },
 "nbformat": 4,
 "nbformat_minor": 4
}
