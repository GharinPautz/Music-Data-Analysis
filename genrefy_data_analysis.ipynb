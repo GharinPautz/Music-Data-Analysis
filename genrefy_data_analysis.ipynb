{
 "cells": [
  {
   "cell_type": "markdown",
   "metadata": {},
   "source": [
    "# Genrefy Project"
   ]
  },
  {
   "cell_type": "markdown",
   "metadata": {},
   "source": [
    "## Data Preprocessing"
   ]
  },
  {
   "cell_type": "code",
   "execution_count": 2,
   "metadata": {},
   "outputs": [
    {
     "output_type": "stream",
     "name": "stdout",
     "text": [
      "Rows:  28372\nCols:  29\n"
     ]
    }
   ],
   "source": [
    "import mypytable as mpt\n",
    "import myutils\n",
    "import myevaluation\n",
    "import random\n",
    "from myclassifiers import MyKNeighborsClassifier, MySimpleLinearRegressor, MyRandomForestClassifier, MyNaiveBayesClassifier\n",
    "\n",
    "table = mpt.MyPyTable().load_from_file(\"tcc_ceds_music.csv\")\n",
    "numrows, numcols = table.get_shape()\n",
    "print(\"Rows: \", numrows)\n",
    "print(\"Cols: \", numcols)"
   ]
  },
  {
   "cell_type": "code",
   "execution_count": 3,
   "metadata": {},
   "outputs": [
    {
     "output_type": "stream",
     "name": "stdout",
     "text": [
      "attribute                         min         max         mid         avg       median\n------------------------  -----------  ----------  ----------  ----------  -----------\nlen                       1            199         100         73.0284     63\ndating                    0.000290782    0.647706    0.323998   0.0211116   0.00146199\nviolence                  0.000284495    0.981781    0.491033   0.118396    0.00250627\nworld/life                0.000290782    0.962105    0.481198   0.120973    0.00657895\nnight/time                0.000289185    0.973684    0.486987   0.0573871   0.00194932\nshake the audience        0.000284495    0.497463    0.248874   0.0174224   0.0015949\nfamily/gospel             0.000289185    0.545303    0.272796   0.0170454   0.00150376\nromantic                  0.000284495    0.940789    0.470537   0.048681    0.00175439\ncommunication             0.000290782    0.645829    0.32306    0.0766798   0.00263158\nobscene                   0.000289185    0.992298    0.496294   0.0971679   0.00181488\nmusic                     0.000289185    0.956938    0.478613   0.0600466   0.00181488\nmovement/places           0.000284495    0.638021    0.319153   0.0474005   0.00164474\nlight/visual perceptions  0.000284495    0.667782    0.334033   0.0490049   0.00181488\nfamily/spiritual          0.000284495    0.618073    0.309179   0.0241503   0.00164474\nlike/girls                0.000284495    0.594459    0.297372   0.028057    0.0015949\nsadness                   0.000284495    0.981424    0.490854   0.129389    0.00526316\nfeelings                  0.000289185    0.95881     0.47955    0.0309963   0.00175439\ndanceability              0.00541536     0.993502    0.499458   0.533348    0.538612\nloudness                  0              1           0.5        0.665249    0.67905\nacousticness              2.81e-07       1           0.5        0.339235    0.225903\ninstrumentalness          0              0.996964    0.498482   0.080049    8.49e-05\nvalence                   0              1           0.5        0.532864    0.539365\nenergy                    0              1           0.5        0.569875    0.580567\nage                       0.0142857      1           0.507143   0.425187    0.414286\n"
     ]
    }
   ],
   "source": [
    "columns = ['len', 'dating', 'violence', 'world/life', 'night/time', 'shake the audience', 'family/gospel', 'romantic', 'communication', 'obscene', 'music', 'movement/places', 'light/visual perceptions', 'family/spiritual', 'like/girls', 'sadness', 'feelings', 'danceability', 'loudness', 'acousticness', 'instrumentalness', 'valence', 'energy', 'age']\n",
    "sum_table = table.compute_summary_statistics(columns)\n",
    "sum_table.pretty_print()"
   ]
  },
  {
   "source": [
    "## KNN Classifier"
   ],
   "cell_type": "markdown",
   "metadata": {}
  },
  {
   "cell_type": "code",
   "execution_count": 5,
   "metadata": {
    "tags": []
   },
   "outputs": [
    {
     "output_type": "stream",
     "name": "stdout",
     "text": [
      "28372\n",
      "18914\n",
      "9458\n",
      "[0.001283697, 0.001283697, 0.001283697, 0.001283697, 0.001283697, 0.001283697, 0.001283697, 0.001283697, 0.001283697, 0.001283697]\n",
      "===============================================\n",
      "STEP 2: k = 5 Nearest Neighbor MPG Classifier\n",
      "===============================================\n",
      "instance:  [[0.380298895, 0.117175451, 0.357738547, 0.454118914, 0.997991966, 0.901821862, 0.33944765]]\n",
      "class:  0.001283697 actual:  pop\n",
      "\n",
      "instance:  [[0.225889484, 0.001547988, 0.68699231, 0.744404277, 0.083934823, 0.199392713, 0.775350371]]\n",
      "class:  0.001283697 actual:  pop\n",
      "\n",
      "instance:  [[0.000482859, 0.123149877, 0.368569262, 0.633694844, 0.435742405, 0.0, 0.282769992]]\n",
      "class:  0.001283697 actual:  pop\n",
      "\n",
      "instance:  [[0.63050735, 0.001119821, 0.662081664, 0.643130016, 0.983935727, 0.000175101, 0.744435284]]\n",
      "class:  0.001283697 actual:  pop\n",
      "\n",
      "instance:  [[0.000626566, 0.032580842, 0.522365428, 0.528728559, 0.85240949, 0.0, 0.408491344]]\n",
      "class:  0.001283697 actual:  pop\n",
      "\n",
      "instance:  [[0.034922425, 0.026084213, 0.636087945, 0.640335359, 0.483935225, 0.791497976, 0.745465787]]\n",
      "class:  0.001283697 actual:  pop\n",
      "\n",
      "instance:  [[0.002024292, 0.041156255, 0.379399978, 0.542060867, 0.984939744, 0.572874494, 0.433223413]]\n",
      "class:  0.001283697 actual:  pop\n",
      "\n",
      "instance:  [[0.059251738, 0.037602766, 0.363153904, 0.471732944, 0.966867437, 0.23582996, 0.420857378]]\n",
      "class:  0.001283697 actual:  pop\n",
      "\n",
      "instance:  [[0.000809717, 0.083151777, 0.701072241, 0.707073815, 0.861445644, 0.004838057, 0.60016488]]\n",
      "class:  0.001283697 actual:  pop\n",
      "\n",
      "instance:  [[0.000692521, 0.000692521, 0.776887252, 0.623336666, 0.985943761, 0.029149798, 0.941261336]]\n",
      "class:  0.001283697 actual:  pop\n",
      "\n"
     ]
    }
   ],
   "source": [
    "k = 3\n",
    "# X = table.data\n",
    "X = []\n",
    "X.append(table.get_column(\"sadness\"))\n",
    "X.append(table.get_column(\"feelings\"))\n",
    "X.append(table.get_column(\"danceability\"))\n",
    "X.append(table.get_column(\"loudness\"))\n",
    "X.append(table.get_column(\"acousticness\"))\n",
    "X.append(table.get_column(\"instrumentalness\"))\n",
    "X.append(table.get_column(\"valence\"))\n",
    "X.append(table.get_column(\"energy\"))\n",
    "X = myutils.transpose(X)\n",
    "print(len(X))\n",
    "y = table.get_column(\"genre\")\n",
    "train_folds, test_folds = myevaluation.stratified_kfold_cross_validation(X, y, k)\n",
    "print(len(train_folds[0]))\n",
    "print(len(test_folds[0]))\n",
    "\n",
    "sadness_index = table.column_names.index(\"sadness\")\n",
    "feelings_index = table.column_names.index(\"feelings\")\n",
    "danceability_index = table.column_names.index(\"danceability\")\n",
    "loudness_index = table.column_names.index(\"loudness\")\n",
    "acousticness_index = table.column_names.index(\"acousticness\")\n",
    "instrumentalness_index = table.column_names.index(\"instrumentalness\")\n",
    "valence_index = table.column_names.index(\"valence\")\n",
    "energy_inidex = table.column_names.index(\"energy\")\n",
    "genre_index = table.column_names.index(\"genre\")\n",
    "\n",
    "predictive_accuracies = []\n",
    "# for i in range(k):\n",
    "#     train_indices = train_folds[i]\n",
    "#     test_indices = test_folds[i]\n",
    "\n",
    "#     train = []\n",
    "#     y_train = []\n",
    "#     for index in train_indices:\n",
    "#         train.append(table.data[index][sadness_index : energy_inidex])\n",
    "#         y_train.append(table.data[index][genre_index])\n",
    "\n",
    "#     test = []\n",
    "#     y_test = []\n",
    "#     for index in test_indices:\n",
    "#         test.append([table.data[index][sadness_index : energy_inidex]])\n",
    "#         y_test.append(table.data[index][genre_index])\n",
    "\n",
    "train_indices = train_folds[0]\n",
    "test_indices = test_folds[0][:10]\n",
    "\n",
    "train = []\n",
    "y_train = []\n",
    "for index in train_indices:\n",
    "    train.append(table.data[index][sadness_index : energy_inidex])\n",
    "    y_train.append(table.data[index][genre_index])\n",
    "\n",
    "test = []\n",
    "y_test = []\n",
    "for index in test_indices:\n",
    "    test.append(table.data[index][sadness_index : energy_inidex])\n",
    "    y_test.append(table.data[index][genre_index])\n",
    "\n",
    "# run nearest neighbor classification\n",
    "mykneighbors = MyKNeighborsClassifier(n_neighbors = 3)\n",
    "MyKNeighborsClassifier.fit(mykneighbors, train, y_train)\n",
    "predicted = MyKNeighborsClassifier.predict(mykneighbors, test)\n",
    "print(predicted)\n",
    "\n",
    "# print results\n",
    "print(\"===============================================\")\n",
    "print(\"STEP 2: k = 5 Nearest Neighbor MPG Classifier\")\n",
    "print(\"===============================================\")\n",
    "for i, instance in enumerate(test):\n",
    "    print(\"instance: \", instance)\n",
    "    print(\"class: \", predicted[i], \"actual: \", y_test[i])\n",
    "    print()"
   ]
  },
  {
   "cell_type": "code",
   "execution_count": null,
   "metadata": {},
   "outputs": [],
   "source": []
  }
 ],
 "metadata": {
  "kernelspec": {
   "name": "python385jvsc74a57bd098b0a9b7b4eaaa670588a142fd0a9b87eaafe866f1db4228be72b4211d12040f",
   "display_name": "Python 3.8.5 64-bit ('base': conda)"
  },
  "language_info": {
   "codemirror_mode": {
    "name": "ipython",
    "version": 3
   },
   "file_extension": ".py",
   "mimetype": "text/x-python",
   "name": "python",
   "nbconvert_exporter": "python",
   "pygments_lexer": "ipython3",
   "version": "3.8.5-final"
  }
 },
 "nbformat": 4,
 "nbformat_minor": 4
}